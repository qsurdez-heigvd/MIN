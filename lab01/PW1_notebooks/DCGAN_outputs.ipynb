{
  "cells": [
    {
      "cell_type": "markdown",
      "metadata": {
        "id": "rrxQypiqQ54m"
      },
      "source": [
        "## <font color=\"#59B4C3\">🔨&nbsp;&nbsp;Google Colab Setup</font>\n",
        "Upload the data (without unzipping it) to your Google Drive to be able to access datasets."
      ]
    },
    {
      "cell_type": "markdown",
      "metadata": {
        "id": "kpulfLPtrGwy"
      },
      "source": [
        "## <font color=\"#59B4C3\">🎯&nbsp;&nbsp;Your task</font>\n",
        "\n",
        "In this notebook you will explore and analyse the results of different DCGAN models trained by us. You will find questions at the end of this notebook. Please run the code, no model is trained here you will load precomputed models outputs."
      ]
    },
    {
      "cell_type": "code",
      "execution_count": 2,
      "metadata": {
        "colab": {
          "base_uri": "https://localhost:8080/"
        },
        "id": "bXwYHT65QIy5",
        "outputId": "50ff5ab9-dafd-4507-f824-41c1d0b1579e"
      },
      "outputs": [
        {
          "name": "stdout",
          "output_type": "stream",
          "text": [
            "Mounted at /content/drive\n"
          ]
        }
      ],
      "source": [
        "from google.colab import drive\n",
        "drive.mount('/content/drive')"
      ]
    },
    {
      "cell_type": "code",
      "execution_count": null,
      "metadata": {
        "colab": {
          "base_uri": "https://localhost:8080/"
        },
        "id": "sR7ztbE1Q-ma",
        "outputId": "49a370b5-992b-4a96-de08-b2b96fad5219"
      },
      "outputs": [
        {
          "name": "stdout",
          "output_type": "stream",
          "text": [
            "Archive:  /content/drive/MyDrive/dcgan.zip\n",
            "   creating: dcgan/\n",
            "   creating: dcgan/discriminator_3/\n",
            " extracting: dcgan/discriminator_3/fingerprint.pb  \n",
            "  inflating: dcgan/discriminator_3/keras_metadata.pb  \n",
            "   creating: dcgan/discriminator_3/variables/\n",
            "  inflating: dcgan/discriminator_3/variables/variables.data-00000-of-00001  \n",
            "  inflating: dcgan/discriminator_3/variables/variables.index  \n",
            "  inflating: dcgan/discriminator_3/saved_model.pb  \n",
            "   creating: dcgan/discriminator_3/assets/\n",
            "   creating: dcgan/discriminator_4/\n",
            " extracting: dcgan/discriminator_4/fingerprint.pb  \n",
            "  inflating: dcgan/discriminator_4/keras_metadata.pb  \n",
            "   creating: dcgan/discriminator_4/variables/\n",
            "  inflating: dcgan/discriminator_4/variables/variables.data-00000-of-00001  \n",
            "  inflating: dcgan/discriminator_4/variables/variables.index  \n",
            "  inflating: dcgan/discriminator_4/saved_model.pb  \n",
            "   creating: dcgan/discriminator_4/assets/\n",
            "   creating: dcgan/discriminator_5/\n",
            " extracting: dcgan/discriminator_5/fingerprint.pb  \n",
            "  inflating: dcgan/discriminator_5/keras_metadata.pb  \n",
            "   creating: dcgan/discriminator_5/variables/\n",
            "  inflating: dcgan/discriminator_5/variables/variables.data-00000-of-00001  \n",
            "  inflating: dcgan/discriminator_5/variables/variables.index  \n",
            "  inflating: dcgan/discriminator_5/saved_model.pb  \n",
            "   creating: dcgan/discriminator_5/assets/\n",
            "   creating: dcgan/discriminator_2/\n",
            " extracting: dcgan/discriminator_2/fingerprint.pb  \n",
            "  inflating: dcgan/discriminator_2/keras_metadata.pb  \n",
            "   creating: dcgan/discriminator_2/variables/\n",
            "  inflating: dcgan/discriminator_2/variables/variables.data-00000-of-00001  \n",
            "  inflating: dcgan/discriminator_2/variables/variables.index  \n",
            "  inflating: dcgan/discriminator_2/saved_model.pb  \n",
            "   creating: dcgan/discriminator_2/assets/\n",
            "  inflating: dcgan/.DS_Store         \n",
            "   creating: dcgan/generator_4/\n",
            " extracting: dcgan/generator_4/fingerprint.pb  \n",
            "  inflating: dcgan/generator_4/keras_metadata.pb  \n",
            "   creating: dcgan/generator_4/variables/\n",
            "  inflating: dcgan/generator_4/variables/variables.data-00000-of-00001  \n",
            "  inflating: dcgan/generator_4/variables/variables.index  \n",
            "  inflating: dcgan/generator_4/saved_model.pb  \n",
            "   creating: dcgan/generator_4/assets/\n",
            "   creating: dcgan/generator_3/\n",
            " extracting: dcgan/generator_3/fingerprint.pb  \n",
            "  inflating: dcgan/generator_3/keras_metadata.pb  \n",
            "   creating: dcgan/generator_3/variables/\n",
            "  inflating: dcgan/generator_3/variables/variables.data-00000-of-00001  \n",
            "  inflating: dcgan/generator_3/variables/variables.index  \n",
            "  inflating: dcgan/generator_3/saved_model.pb  \n",
            "   creating: dcgan/generator_3/assets/\n",
            "   creating: dcgan/generator_2/\n",
            " extracting: dcgan/generator_2/fingerprint.pb  \n",
            "  inflating: dcgan/generator_2/keras_metadata.pb  \n",
            "   creating: dcgan/generator_2/variables/\n",
            "  inflating: dcgan/generator_2/variables/variables.data-00000-of-00001  \n",
            "  inflating: dcgan/generator_2/variables/variables.index  \n",
            "  inflating: dcgan/generator_2/saved_model.pb  \n",
            "   creating: dcgan/generator_2/assets/\n",
            "   creating: dcgan/generator_5/\n",
            " extracting: dcgan/generator_5/fingerprint.pb  \n",
            "  inflating: dcgan/generator_5/keras_metadata.pb  \n",
            "   creating: dcgan/generator_5/variables/\n",
            "  inflating: dcgan/generator_5/variables/variables.data-00000-of-00001  \n",
            "  inflating: dcgan/generator_5/variables/variables.index  \n",
            "  inflating: dcgan/generator_5/saved_model.pb  \n",
            "   creating: dcgan/generator_5/assets/\n",
            "   creating: dcgan/discriminator_1/\n",
            " extracting: dcgan/discriminator_1/fingerprint.pb  \n",
            "  inflating: dcgan/discriminator_1/keras_metadata.pb  \n",
            "   creating: dcgan/discriminator_1/variables/\n",
            "  inflating: dcgan/discriminator_1/variables/variables.data-00000-of-00001  \n",
            "  inflating: dcgan/discriminator_1/variables/variables.index  \n",
            "  inflating: dcgan/discriminator_1/saved_model.pb  \n",
            "   creating: dcgan/discriminator_1/assets/\n",
            "   creating: dcgan/discriminator_6/\n",
            " extracting: dcgan/discriminator_6/fingerprint.pb  \n",
            "  inflating: dcgan/discriminator_6/keras_metadata.pb  \n",
            "   creating: dcgan/discriminator_6/variables/\n",
            "  inflating: dcgan/discriminator_6/variables/variables.data-00000-of-00001  \n",
            "  inflating: dcgan/discriminator_6/variables/variables.index  \n",
            "  inflating: dcgan/discriminator_6/saved_model.pb  \n",
            "   creating: dcgan/discriminator_6/assets/\n",
            "   creating: dcgan/generator_6/\n",
            " extracting: dcgan/generator_6/fingerprint.pb  \n",
            "  inflating: dcgan/generator_6/keras_metadata.pb  \n",
            "   creating: dcgan/generator_6/variables/\n",
            "  inflating: dcgan/generator_6/variables/variables.data-00000-of-00001  \n",
            "  inflating: dcgan/generator_6/variables/variables.index  \n",
            "  inflating: dcgan/generator_6/saved_model.pb  \n",
            "   creating: dcgan/generator_6/assets/\n",
            "   creating: dcgan/generator_1/\n",
            " extracting: dcgan/generator_1/fingerprint.pb  \n",
            "  inflating: dcgan/generator_1/keras_metadata.pb  \n",
            "   creating: dcgan/generator_1/variables/\n",
            "  inflating: dcgan/generator_1/variables/variables.data-00000-of-00001  \n",
            "  inflating: dcgan/generator_1/variables/variables.index  \n",
            "  inflating: dcgan/generator_1/saved_model.pb  \n",
            "   creating: dcgan/generator_1/assets/\n",
            "   creating: dcgan/outputs/\n",
            "   creating: dcgan/outputs/dcgan_3/\n",
            "   creating: dcgan/outputs/dcgan_3/discriminator_3/\n",
            " extracting: dcgan/outputs/dcgan_3/discriminator_3/fingerprint.pb  \n",
            "  inflating: dcgan/outputs/dcgan_3/discriminator_3/keras_metadata.pb  \n",
            "   creating: dcgan/outputs/dcgan_3/discriminator_3/variables/\n",
            "  inflating: dcgan/outputs/dcgan_3/discriminator_3/variables/variables.data-00000-of-00001  \n",
            "  inflating: dcgan/outputs/dcgan_3/discriminator_3/variables/variables.index  \n",
            "  inflating: dcgan/outputs/dcgan_3/discriminator_3/saved_model.pb  \n",
            "   creating: dcgan/outputs/dcgan_3/discriminator_3/assets/\n",
            "  inflating: dcgan/outputs/dcgan_3/.DS_Store  \n",
            "   creating: dcgan/outputs/dcgan_3/images/\n",
            "  inflating: dcgan/outputs/dcgan_3/images/8.png  \n",
            "  inflating: dcgan/outputs/dcgan_3/images/9.png  \n",
            "  inflating: dcgan/outputs/dcgan_3/images/14.png  \n",
            "  inflating: dcgan/outputs/dcgan_3/images/28.png  \n",
            "  inflating: dcgan/outputs/dcgan_3/images/29.png  \n",
            "  inflating: dcgan/outputs/dcgan_3/images/15.png  \n",
            "  inflating: dcgan/outputs/dcgan_3/images/17.png  \n",
            "  inflating: dcgan/outputs/dcgan_3/images/16.png  \n",
            "  inflating: dcgan/outputs/dcgan_3/images/12.png  \n",
            "  inflating: dcgan/outputs/dcgan_3/images/13.png  \n",
            "  inflating: dcgan/outputs/dcgan_3/images/39.png  \n",
            "  inflating: dcgan/outputs/dcgan_3/images/11.png  \n",
            "  inflating: dcgan/outputs/dcgan_3/images/10.png  \n",
            "  inflating: dcgan/outputs/dcgan_3/images/38.png  \n",
            "  inflating: dcgan/outputs/dcgan_3/images/35.png  \n",
            "  inflating: dcgan/outputs/dcgan_3/images/21.png  \n",
            "  inflating: dcgan/outputs/dcgan_3/images/20.png  \n",
            "  inflating: dcgan/outputs/dcgan_3/images/34.png  \n",
            "  inflating: dcgan/outputs/dcgan_3/images/22.png  \n",
            "  inflating: dcgan/outputs/dcgan_3/images/36.png  \n",
            "  inflating: dcgan/outputs/dcgan_3/images/37.png  \n",
            "  inflating: dcgan/outputs/dcgan_3/images/23.png  \n",
            "  inflating: dcgan/outputs/dcgan_3/images/27.png  \n",
            "  inflating: dcgan/outputs/dcgan_3/images/33.png  \n",
            "  inflating: dcgan/outputs/dcgan_3/images/32.png  \n",
            "  inflating: dcgan/outputs/dcgan_3/images/26.png  \n",
            "  inflating: dcgan/outputs/dcgan_3/images/18.png  \n",
            "  inflating: dcgan/outputs/dcgan_3/images/30.png  \n",
            "  inflating: dcgan/outputs/dcgan_3/images/24.png  \n",
            "  inflating: dcgan/outputs/dcgan_3/images/25.png  \n",
            "  inflating: dcgan/outputs/dcgan_3/images/31.png  \n",
            "  inflating: dcgan/outputs/dcgan_3/images/19.png  \n",
            "  inflating: dcgan/outputs/dcgan_3/images/4.png  \n",
            "  inflating: dcgan/outputs/dcgan_3/images/5.png  \n",
            "  inflating: dcgan/outputs/dcgan_3/images/7.png  \n",
            "  inflating: dcgan/outputs/dcgan_3/images/6.png  \n",
            "  inflating: dcgan/outputs/dcgan_3/images/40.png  \n",
            "  inflating: dcgan/outputs/dcgan_3/images/2.png  \n",
            "  inflating: dcgan/outputs/dcgan_3/images/3.png  \n",
            "  inflating: dcgan/outputs/dcgan_3/images/1.png  \n",
            "  inflating: dcgan/outputs/dcgan_3/loss_dcgan_3.png  \n",
            "   creating: dcgan/outputs/dcgan_3/generator_3/\n",
            " extracting: dcgan/outputs/dcgan_3/generator_3/fingerprint.pb  \n",
            "  inflating: dcgan/outputs/dcgan_3/generator_3/keras_metadata.pb  \n",
            "   creating: dcgan/outputs/dcgan_3/generator_3/variables/\n",
            "  inflating: dcgan/outputs/dcgan_3/generator_3/variables/variables.data-00000-of-00001  \n",
            "  inflating: dcgan/outputs/dcgan_3/generator_3/variables/variables.index  \n",
            "  inflating: dcgan/outputs/dcgan_3/generator_3/saved_model.pb  \n",
            "   creating: dcgan/outputs/dcgan_3/generator_3/assets/\n",
            "   creating: dcgan/outputs/dcgan_4/\n",
            "  inflating: dcgan/outputs/dcgan_4/.DS_Store  \n",
            "   creating: dcgan/outputs/dcgan_4/images/\n",
            "  inflating: dcgan/outputs/dcgan_4/images/8.png  \n",
            "  inflating: dcgan/outputs/dcgan_4/images/9.png  \n",
            "  inflating: dcgan/outputs/dcgan_4/images/14.png  \n",
            "  inflating: dcgan/outputs/dcgan_4/images/28.png  \n",
            "  inflating: dcgan/outputs/dcgan_4/images/29.png  \n",
            "  inflating: dcgan/outputs/dcgan_4/images/15.png  \n",
            "  inflating: dcgan/outputs/dcgan_4/images/17.png  \n",
            "  inflating: dcgan/outputs/dcgan_4/images/16.png  \n",
            "  inflating: dcgan/outputs/dcgan_4/images/12.png  \n",
            "  inflating: dcgan/outputs/dcgan_4/images/13.png  \n",
            "  inflating: dcgan/outputs/dcgan_4/images/39.png  \n",
            "  inflating: dcgan/outputs/dcgan_4/images/11.png  \n",
            "  inflating: dcgan/outputs/dcgan_4/images/10.png  \n",
            "  inflating: dcgan/outputs/dcgan_4/images/38.png  \n",
            "  inflating: dcgan/outputs/dcgan_4/images/35.png  \n",
            "  inflating: dcgan/outputs/dcgan_4/images/21.png  \n",
            "  inflating: dcgan/outputs/dcgan_4/images/20.png  \n",
            "  inflating: dcgan/outputs/dcgan_4/images/34.png  \n",
            "  inflating: dcgan/outputs/dcgan_4/images/22.png  \n",
            "  inflating: dcgan/outputs/dcgan_4/images/36.png  \n",
            "  inflating: dcgan/outputs/dcgan_4/images/37.png  \n",
            "  inflating: dcgan/outputs/dcgan_4/images/23.png  \n",
            "  inflating: dcgan/outputs/dcgan_4/images/27.png  \n",
            "  inflating: dcgan/outputs/dcgan_4/images/33.png  \n",
            "  inflating: dcgan/outputs/dcgan_4/images/32.png  \n",
            "  inflating: dcgan/outputs/dcgan_4/images/26.png  \n",
            "  inflating: dcgan/outputs/dcgan_4/images/18.png  \n",
            "  inflating: dcgan/outputs/dcgan_4/images/30.png  \n",
            "  inflating: dcgan/outputs/dcgan_4/images/24.png  \n",
            "  inflating: dcgan/outputs/dcgan_4/images/25.png  \n",
            "  inflating: dcgan/outputs/dcgan_4/images/31.png  \n",
            "  inflating: dcgan/outputs/dcgan_4/images/19.png  \n",
            "  inflating: dcgan/outputs/dcgan_4/images/4.png  \n",
            "  inflating: dcgan/outputs/dcgan_4/images/5.png  \n",
            "  inflating: dcgan/outputs/dcgan_4/images/7.png  \n",
            "  inflating: dcgan/outputs/dcgan_4/images/6.png  \n",
            "  inflating: dcgan/outputs/dcgan_4/images/40.png  \n",
            "  inflating: dcgan/outputs/dcgan_4/images/2.png  \n",
            "  inflating: dcgan/outputs/dcgan_4/images/3.png  \n",
            "  inflating: dcgan/outputs/dcgan_4/images/1.png  \n",
            "  inflating: dcgan/outputs/dcgan_4/loss_dcgan_4.png  \n",
            "   creating: dcgan/outputs/dcgan_5/\n",
            "  inflating: dcgan/outputs/dcgan_5/.DS_Store  \n",
            "   creating: dcgan/outputs/dcgan_5/images/\n",
            "  inflating: dcgan/outputs/dcgan_5/images/8.png  \n",
            "  inflating: dcgan/outputs/dcgan_5/images/9.png  \n",
            "  inflating: dcgan/outputs/dcgan_5/images/14.png  \n",
            "  inflating: dcgan/outputs/dcgan_5/images/28.png  \n",
            "  inflating: dcgan/outputs/dcgan_5/images/29.png  \n",
            "  inflating: dcgan/outputs/dcgan_5/images/15.png  \n",
            "  inflating: dcgan/outputs/dcgan_5/images/17.png  \n",
            "  inflating: dcgan/outputs/dcgan_5/images/16.png  \n",
            "  inflating: dcgan/outputs/dcgan_5/images/12.png  \n",
            "  inflating: dcgan/outputs/dcgan_5/images/13.png  \n",
            "  inflating: dcgan/outputs/dcgan_5/images/39.png  \n",
            "  inflating: dcgan/outputs/dcgan_5/images/11.png  \n",
            "  inflating: dcgan/outputs/dcgan_5/images/10.png  \n",
            "  inflating: dcgan/outputs/dcgan_5/images/38.png  \n",
            "  inflating: dcgan/outputs/dcgan_5/images/35.png  \n",
            "  inflating: dcgan/outputs/dcgan_5/images/21.png  \n",
            "  inflating: dcgan/outputs/dcgan_5/images/20.png  \n",
            "  inflating: dcgan/outputs/dcgan_5/images/34.png  \n",
            "  inflating: dcgan/outputs/dcgan_5/images/22.png  \n",
            "  inflating: dcgan/outputs/dcgan_5/images/36.png  \n",
            "  inflating: dcgan/outputs/dcgan_5/images/37.png  \n",
            "  inflating: dcgan/outputs/dcgan_5/images/23.png  \n",
            "  inflating: dcgan/outputs/dcgan_5/images/27.png  \n",
            "  inflating: dcgan/outputs/dcgan_5/images/33.png  \n",
            "  inflating: dcgan/outputs/dcgan_5/images/32.png  \n",
            "  inflating: dcgan/outputs/dcgan_5/images/26.png  \n",
            "  inflating: dcgan/outputs/dcgan_5/images/18.png  \n",
            "  inflating: dcgan/outputs/dcgan_5/images/30.png  \n",
            "  inflating: dcgan/outputs/dcgan_5/images/24.png  \n",
            "  inflating: dcgan/outputs/dcgan_5/images/25.png  \n",
            "  inflating: dcgan/outputs/dcgan_5/images/31.png  \n",
            "  inflating: dcgan/outputs/dcgan_5/images/19.png  \n",
            "  inflating: dcgan/outputs/dcgan_5/images/4.png  \n",
            "  inflating: dcgan/outputs/dcgan_5/images/5.png  \n",
            "  inflating: dcgan/outputs/dcgan_5/images/7.png  \n",
            "  inflating: dcgan/outputs/dcgan_5/images/6.png  \n",
            "  inflating: dcgan/outputs/dcgan_5/images/40.png  \n",
            "  inflating: dcgan/outputs/dcgan_5/images/2.png  \n",
            "  inflating: dcgan/outputs/dcgan_5/images/3.png  \n",
            "  inflating: dcgan/outputs/dcgan_5/images/1.png  \n",
            "  inflating: dcgan/outputs/dcgan_5/loss_dcgan_5.png  \n",
            "   creating: dcgan/outputs/dcgan_2/\n",
            "  inflating: dcgan/outputs/dcgan_2/.DS_Store  \n",
            "   creating: dcgan/outputs/dcgan_2/images/\n",
            "  inflating: dcgan/outputs/dcgan_2/images/.DS_Store  \n",
            "  inflating: dcgan/outputs/dcgan_2/images/8.png  \n",
            "  inflating: dcgan/outputs/dcgan_2/images/9.png  \n",
            "  inflating: dcgan/outputs/dcgan_2/images/14.png  \n",
            "  inflating: dcgan/outputs/dcgan_2/images/28.png  \n",
            "  inflating: dcgan/outputs/dcgan_2/images/29.png  \n",
            "  inflating: dcgan/outputs/dcgan_2/images/15.png  \n",
            "  inflating: dcgan/outputs/dcgan_2/images/17.png  \n",
            "  inflating: dcgan/outputs/dcgan_2/images/16.png  \n",
            "  inflating: dcgan/outputs/dcgan_2/images/12.png  \n",
            "  inflating: dcgan/outputs/dcgan_2/images/13.png  \n",
            "  inflating: dcgan/outputs/dcgan_2/images/39.png  \n",
            "  inflating: dcgan/outputs/dcgan_2/images/11.png  \n",
            "  inflating: dcgan/outputs/dcgan_2/images/10.png  \n",
            "  inflating: dcgan/outputs/dcgan_2/images/38.png  \n",
            "  inflating: dcgan/outputs/dcgan_2/images/35.png  \n",
            "  inflating: dcgan/outputs/dcgan_2/images/21.png  \n",
            "  inflating: dcgan/outputs/dcgan_2/images/20.png  \n",
            "  inflating: dcgan/outputs/dcgan_2/images/34.png  \n",
            "  inflating: dcgan/outputs/dcgan_2/images/22.png  \n",
            "  inflating: dcgan/outputs/dcgan_2/images/36.png  \n",
            "  inflating: dcgan/outputs/dcgan_2/images/37.png  \n",
            "  inflating: dcgan/outputs/dcgan_2/images/23.png  \n",
            "  inflating: dcgan/outputs/dcgan_2/images/27.png  \n",
            "  inflating: dcgan/outputs/dcgan_2/images/33.png  \n",
            "  inflating: dcgan/outputs/dcgan_2/images/32.png  \n",
            "  inflating: dcgan/outputs/dcgan_2/images/26.png  \n",
            "  inflating: dcgan/outputs/dcgan_2/images/18.png  \n",
            "  inflating: dcgan/outputs/dcgan_2/images/30.png  \n",
            "  inflating: dcgan/outputs/dcgan_2/images/24.png  \n",
            "  inflating: dcgan/outputs/dcgan_2/images/25.png  \n",
            "  inflating: dcgan/outputs/dcgan_2/images/31.png  \n",
            "  inflating: dcgan/outputs/dcgan_2/images/19.png  \n",
            "  inflating: dcgan/outputs/dcgan_2/images/4.png  \n",
            "  inflating: dcgan/outputs/dcgan_2/images/5.png  \n",
            "  inflating: dcgan/outputs/dcgan_2/images/7.png  \n",
            "  inflating: dcgan/outputs/dcgan_2/images/6.png  \n",
            "  inflating: dcgan/outputs/dcgan_2/images/40.png  \n",
            "  inflating: dcgan/outputs/dcgan_2/images/2.png  \n",
            "  inflating: dcgan/outputs/dcgan_2/images/3.png  \n",
            "  inflating: dcgan/outputs/dcgan_2/images/1.png  \n",
            "  inflating: dcgan/outputs/dcgan_2/loss_dcgan_2.png  \n",
            "  inflating: dcgan/outputs/.DS_Store  \n",
            "   creating: dcgan/outputs/dcgan_1/\n",
            "  inflating: dcgan/outputs/dcgan_1/.DS_Store  \n",
            "   creating: dcgan/outputs/dcgan_1/images/\n",
            "  inflating: dcgan/outputs/dcgan_1/images/8.png  \n",
            "  inflating: dcgan/outputs/dcgan_1/images/9.png  \n",
            "  inflating: dcgan/outputs/dcgan_1/images/14.png  \n",
            "  inflating: dcgan/outputs/dcgan_1/images/28.png  \n",
            "  inflating: dcgan/outputs/dcgan_1/images/29.png  \n",
            "  inflating: dcgan/outputs/dcgan_1/images/15.png  \n",
            "  inflating: dcgan/outputs/dcgan_1/images/17.png  \n",
            "  inflating: dcgan/outputs/dcgan_1/images/16.png  \n",
            "  inflating: dcgan/outputs/dcgan_1/images/12.png  \n",
            "  inflating: dcgan/outputs/dcgan_1/images/13.png  \n",
            "  inflating: dcgan/outputs/dcgan_1/images/39.png  \n",
            "  inflating: dcgan/outputs/dcgan_1/images/11.png  \n",
            "  inflating: dcgan/outputs/dcgan_1/images/10.png  \n",
            "  inflating: dcgan/outputs/dcgan_1/images/38.png  \n",
            "  inflating: dcgan/outputs/dcgan_1/images/35.png  \n",
            "  inflating: dcgan/outputs/dcgan_1/images/21.png  \n",
            "  inflating: dcgan/outputs/dcgan_1/images/20.png  \n",
            "  inflating: dcgan/outputs/dcgan_1/images/34.png  \n",
            "  inflating: dcgan/outputs/dcgan_1/images/22.png  \n",
            "  inflating: dcgan/outputs/dcgan_1/images/36.png  \n",
            "  inflating: dcgan/outputs/dcgan_1/images/37.png  \n",
            "  inflating: dcgan/outputs/dcgan_1/images/23.png  \n",
            "  inflating: dcgan/outputs/dcgan_1/images/27.png  \n",
            "  inflating: dcgan/outputs/dcgan_1/images/33.png  \n",
            "  inflating: dcgan/outputs/dcgan_1/images/32.png  \n",
            "  inflating: dcgan/outputs/dcgan_1/images/26.png  \n",
            "  inflating: dcgan/outputs/dcgan_1/images/18.png  \n",
            "  inflating: dcgan/outputs/dcgan_1/images/30.png  \n",
            "  inflating: dcgan/outputs/dcgan_1/images/24.png  \n",
            "  inflating: dcgan/outputs/dcgan_1/images/25.png  \n",
            "  inflating: dcgan/outputs/dcgan_1/images/31.png  \n",
            "  inflating: dcgan/outputs/dcgan_1/images/19.png  \n",
            "  inflating: dcgan/outputs/dcgan_1/images/4.png  \n",
            "  inflating: dcgan/outputs/dcgan_1/images/5.png  \n",
            "  inflating: dcgan/outputs/dcgan_1/images/7.png  \n",
            "  inflating: dcgan/outputs/dcgan_1/images/6.png  \n",
            "  inflating: dcgan/outputs/dcgan_1/images/40.png  \n",
            "  inflating: dcgan/outputs/dcgan_1/images/2.png  \n",
            "  inflating: dcgan/outputs/dcgan_1/images/3.png  \n",
            "  inflating: dcgan/outputs/dcgan_1/images/1.png  \n",
            "  inflating: dcgan/outputs/dcgan_1/loss_dcgan_1.png  \n",
            "   creating: dcgan/outputs/dcgan_6/\n",
            "  inflating: dcgan/outputs/dcgan_6/.DS_Store  \n",
            "   creating: dcgan/outputs/dcgan_6/images/\n",
            "  inflating: dcgan/outputs/dcgan_6/images/8.png  \n",
            "  inflating: dcgan/outputs/dcgan_6/images/9.png  \n",
            "  inflating: dcgan/outputs/dcgan_6/images/14.png  \n",
            "  inflating: dcgan/outputs/dcgan_6/images/28.png  \n",
            "  inflating: dcgan/outputs/dcgan_6/images/29.png  \n",
            "  inflating: dcgan/outputs/dcgan_6/images/15.png  \n",
            "  inflating: dcgan/outputs/dcgan_6/images/17.png  \n",
            "  inflating: dcgan/outputs/dcgan_6/images/16.png  \n",
            "  inflating: dcgan/outputs/dcgan_6/images/12.png  \n",
            "  inflating: dcgan/outputs/dcgan_6/images/13.png  \n",
            "  inflating: dcgan/outputs/dcgan_6/images/39.png  \n",
            "  inflating: dcgan/outputs/dcgan_6/images/11.png  \n",
            "  inflating: dcgan/outputs/dcgan_6/images/10.png  \n",
            "  inflating: dcgan/outputs/dcgan_6/images/38.png  \n",
            "  inflating: dcgan/outputs/dcgan_6/images/35.png  \n",
            "  inflating: dcgan/outputs/dcgan_6/images/21.png  \n",
            "  inflating: dcgan/outputs/dcgan_6/images/20.png  \n",
            "  inflating: dcgan/outputs/dcgan_6/images/34.png  \n",
            "  inflating: dcgan/outputs/dcgan_6/images/22.png  \n",
            "  inflating: dcgan/outputs/dcgan_6/images/36.png  \n",
            "  inflating: dcgan/outputs/dcgan_6/images/37.png  \n",
            "  inflating: dcgan/outputs/dcgan_6/images/23.png  \n",
            "  inflating: dcgan/outputs/dcgan_6/images/27.png  \n",
            "  inflating: dcgan/outputs/dcgan_6/images/33.png  \n",
            "  inflating: dcgan/outputs/dcgan_6/images/32.png  \n",
            "  inflating: dcgan/outputs/dcgan_6/images/26.png  \n",
            "  inflating: dcgan/outputs/dcgan_6/images/18.png  \n",
            "  inflating: dcgan/outputs/dcgan_6/images/30.png  \n",
            "  inflating: dcgan/outputs/dcgan_6/images/24.png  \n",
            "  inflating: dcgan/outputs/dcgan_6/images/25.png  \n",
            "  inflating: dcgan/outputs/dcgan_6/images/31.png  \n",
            "  inflating: dcgan/outputs/dcgan_6/images/19.png  \n",
            "  inflating: dcgan/outputs/dcgan_6/images/4.png  \n",
            "  inflating: dcgan/outputs/dcgan_6/images/5.png  \n",
            "  inflating: dcgan/outputs/dcgan_6/images/7.png  \n",
            "  inflating: dcgan/outputs/dcgan_6/images/6.png  \n",
            "  inflating: dcgan/outputs/dcgan_6/images/40.png  \n",
            "  inflating: dcgan/outputs/dcgan_6/images/2.png  \n",
            "  inflating: dcgan/outputs/dcgan_6/images/3.png  \n",
            "  inflating: dcgan/outputs/dcgan_6/images/1.png  \n",
            "  inflating: dcgan/outputs/dcgan_6/loss_dcgan_6.png  \n"
          ]
        }
      ],
      "source": [
        "# !unzip /content/drive/MyDrive/dcgan.zip"
      ]
    },
    {
      "cell_type": "markdown",
      "metadata": {
        "id": "-4FJWrya6vuS"
      },
      "source": [
        "## <font color=\"#59B4C3\">🧺&nbsp;&nbsp;Load Experiments Results</font>"
      ]
    },
    {
      "cell_type": "code",
      "execution_count": null,
      "metadata": {
        "colab": {
          "base_uri": "https://localhost:8080/"
        },
        "id": "hxuBj7DxgWtv",
        "outputId": "212ae43b-7e83-4fa5-8225-168b7c035a68"
      },
      "outputs": [
        {
          "name": "stdout",
          "output_type": "stream",
          "text": [
            "Requirement already satisfied: tf_keras in /usr/local/lib/python3.11/dist-packages (2.18.0)\n",
            "Requirement already satisfied: tensorflow<2.19,>=2.18 in /usr/local/lib/python3.11/dist-packages (from tf_keras) (2.18.0)\n",
            "Requirement already satisfied: absl-py>=1.0.0 in /usr/local/lib/python3.11/dist-packages (from tensorflow<2.19,>=2.18->tf_keras) (1.4.0)\n",
            "Requirement already satisfied: astunparse>=1.6.0 in /usr/local/lib/python3.11/dist-packages (from tensorflow<2.19,>=2.18->tf_keras) (1.6.3)\n",
            "Requirement already satisfied: flatbuffers>=24.3.25 in /usr/local/lib/python3.11/dist-packages (from tensorflow<2.19,>=2.18->tf_keras) (25.2.10)\n",
            "Requirement already satisfied: gast!=0.5.0,!=0.5.1,!=0.5.2,>=0.2.1 in /usr/local/lib/python3.11/dist-packages (from tensorflow<2.19,>=2.18->tf_keras) (0.6.0)\n",
            "Requirement already satisfied: google-pasta>=0.1.1 in /usr/local/lib/python3.11/dist-packages (from tensorflow<2.19,>=2.18->tf_keras) (0.2.0)\n",
            "Requirement already satisfied: libclang>=13.0.0 in /usr/local/lib/python3.11/dist-packages (from tensorflow<2.19,>=2.18->tf_keras) (18.1.1)\n",
            "Requirement already satisfied: opt-einsum>=2.3.2 in /usr/local/lib/python3.11/dist-packages (from tensorflow<2.19,>=2.18->tf_keras) (3.4.0)\n",
            "Requirement already satisfied: packaging in /usr/local/lib/python3.11/dist-packages (from tensorflow<2.19,>=2.18->tf_keras) (24.2)\n",
            "Requirement already satisfied: protobuf!=4.21.0,!=4.21.1,!=4.21.2,!=4.21.3,!=4.21.4,!=4.21.5,<6.0.0dev,>=3.20.3 in /usr/local/lib/python3.11/dist-packages (from tensorflow<2.19,>=2.18->tf_keras) (4.25.6)\n",
            "Requirement already satisfied: requests<3,>=2.21.0 in /usr/local/lib/python3.11/dist-packages (from tensorflow<2.19,>=2.18->tf_keras) (2.32.3)\n",
            "Requirement already satisfied: setuptools in /usr/local/lib/python3.11/dist-packages (from tensorflow<2.19,>=2.18->tf_keras) (75.1.0)\n",
            "Requirement already satisfied: six>=1.12.0 in /usr/local/lib/python3.11/dist-packages (from tensorflow<2.19,>=2.18->tf_keras) (1.17.0)\n",
            "Requirement already satisfied: termcolor>=1.1.0 in /usr/local/lib/python3.11/dist-packages (from tensorflow<2.19,>=2.18->tf_keras) (2.5.0)\n",
            "Requirement already satisfied: typing-extensions>=3.6.6 in /usr/local/lib/python3.11/dist-packages (from tensorflow<2.19,>=2.18->tf_keras) (4.12.2)\n",
            "Requirement already satisfied: wrapt>=1.11.0 in /usr/local/lib/python3.11/dist-packages (from tensorflow<2.19,>=2.18->tf_keras) (1.17.2)\n",
            "Requirement already satisfied: grpcio<2.0,>=1.24.3 in /usr/local/lib/python3.11/dist-packages (from tensorflow<2.19,>=2.18->tf_keras) (1.70.0)\n",
            "Requirement already satisfied: tensorboard<2.19,>=2.18 in /usr/local/lib/python3.11/dist-packages (from tensorflow<2.19,>=2.18->tf_keras) (2.18.0)\n",
            "Requirement already satisfied: keras>=3.5.0 in /usr/local/lib/python3.11/dist-packages (from tensorflow<2.19,>=2.18->tf_keras) (3.8.0)\n",
            "Requirement already satisfied: numpy<2.1.0,>=1.26.0 in /usr/local/lib/python3.11/dist-packages (from tensorflow<2.19,>=2.18->tf_keras) (1.26.4)\n",
            "Requirement already satisfied: h5py>=3.11.0 in /usr/local/lib/python3.11/dist-packages (from tensorflow<2.19,>=2.18->tf_keras) (3.12.1)\n",
            "Requirement already satisfied: ml-dtypes<0.5.0,>=0.4.0 in /usr/local/lib/python3.11/dist-packages (from tensorflow<2.19,>=2.18->tf_keras) (0.4.1)\n",
            "Requirement already satisfied: tensorflow-io-gcs-filesystem>=0.23.1 in /usr/local/lib/python3.11/dist-packages (from tensorflow<2.19,>=2.18->tf_keras) (0.37.1)\n",
            "Requirement already satisfied: wheel<1.0,>=0.23.0 in /usr/local/lib/python3.11/dist-packages (from astunparse>=1.6.0->tensorflow<2.19,>=2.18->tf_keras) (0.45.1)\n",
            "Requirement already satisfied: rich in /usr/local/lib/python3.11/dist-packages (from keras>=3.5.0->tensorflow<2.19,>=2.18->tf_keras) (13.9.4)\n",
            "Requirement already satisfied: namex in /usr/local/lib/python3.11/dist-packages (from keras>=3.5.0->tensorflow<2.19,>=2.18->tf_keras) (0.0.8)\n",
            "Requirement already satisfied: optree in /usr/local/lib/python3.11/dist-packages (from keras>=3.5.0->tensorflow<2.19,>=2.18->tf_keras) (0.14.0)\n",
            "Requirement already satisfied: charset-normalizer<4,>=2 in /usr/local/lib/python3.11/dist-packages (from requests<3,>=2.21.0->tensorflow<2.19,>=2.18->tf_keras) (3.4.1)\n",
            "Requirement already satisfied: idna<4,>=2.5 in /usr/local/lib/python3.11/dist-packages (from requests<3,>=2.21.0->tensorflow<2.19,>=2.18->tf_keras) (3.10)\n",
            "Requirement already satisfied: urllib3<3,>=1.21.1 in /usr/local/lib/python3.11/dist-packages (from requests<3,>=2.21.0->tensorflow<2.19,>=2.18->tf_keras) (2.3.0)\n",
            "Requirement already satisfied: certifi>=2017.4.17 in /usr/local/lib/python3.11/dist-packages (from requests<3,>=2.21.0->tensorflow<2.19,>=2.18->tf_keras) (2025.1.31)\n",
            "Requirement already satisfied: markdown>=2.6.8 in /usr/local/lib/python3.11/dist-packages (from tensorboard<2.19,>=2.18->tensorflow<2.19,>=2.18->tf_keras) (3.7)\n",
            "Requirement already satisfied: tensorboard-data-server<0.8.0,>=0.7.0 in /usr/local/lib/python3.11/dist-packages (from tensorboard<2.19,>=2.18->tensorflow<2.19,>=2.18->tf_keras) (0.7.2)\n",
            "Requirement already satisfied: werkzeug>=1.0.1 in /usr/local/lib/python3.11/dist-packages (from tensorboard<2.19,>=2.18->tensorflow<2.19,>=2.18->tf_keras) (3.1.3)\n",
            "Requirement already satisfied: MarkupSafe>=2.1.1 in /usr/local/lib/python3.11/dist-packages (from werkzeug>=1.0.1->tensorboard<2.19,>=2.18->tensorflow<2.19,>=2.18->tf_keras) (3.0.2)\n",
            "Requirement already satisfied: markdown-it-py>=2.2.0 in /usr/local/lib/python3.11/dist-packages (from rich->keras>=3.5.0->tensorflow<2.19,>=2.18->tf_keras) (3.0.0)\n",
            "Requirement already satisfied: pygments<3.0.0,>=2.13.0 in /usr/local/lib/python3.11/dist-packages (from rich->keras>=3.5.0->tensorflow<2.19,>=2.18->tf_keras) (2.18.0)\n",
            "Requirement already satisfied: mdurl~=0.1 in /usr/local/lib/python3.11/dist-packages (from markdown-it-py>=2.2.0->rich->keras>=3.5.0->tensorflow<2.19,>=2.18->tf_keras) (0.1.2)\n"
          ]
        }
      ],
      "source": [
        "# !pip install tf_keras"
      ]
    },
    {
      "cell_type": "code",
      "execution_count": 4,
      "metadata": {
        "colab": {
          "base_uri": "https://localhost:8080/"
        },
        "id": "QGWfeGopRQrf",
        "outputId": "ece60a49-e7ae-496a-8b3a-257e7ae8abb1"
      },
      "outputs": [
        {
          "name": "stderr",
          "output_type": "stream",
          "text": [
            "/Users/quentinsurdez/Admin/HEIG/BA5/ARN/Lab/ARN/.venv/lib/python3.9/site-packages/tf_keras/src/initializers/initializers.py:121: UserWarning: The initializer RandomNormal is unseeded and being called multiple times, which will return identical values each time (even if the initializer is unseeded). Please update your code to provide a seed to the initializer, or avoid using the same initializer instance more than once.\n",
            "  warnings.warn(\n",
            "/Users/quentinsurdez/Admin/HEIG/BA5/ARN/Lab/ARN/.venv/lib/python3.9/site-packages/tf_keras/src/initializers/initializers.py:121: UserWarning: The initializer RandomNormal is unseeded and being called multiple times, which will return identical values each time (even if the initializer is unseeded). Please update your code to provide a seed to the initializer, or avoid using the same initializer instance more than once.\n",
            "  warnings.warn(\n",
            "/Users/quentinsurdez/Admin/HEIG/BA5/ARN/Lab/ARN/.venv/lib/python3.9/site-packages/tf_keras/src/initializers/initializers.py:121: UserWarning: The initializer RandomNormal is unseeded and being called multiple times, which will return identical values each time (even if the initializer is unseeded). Please update your code to provide a seed to the initializer, or avoid using the same initializer instance more than once.\n",
            "  warnings.warn(\n",
            "/Users/quentinsurdez/Admin/HEIG/BA5/ARN/Lab/ARN/.venv/lib/python3.9/site-packages/tf_keras/src/initializers/initializers.py:121: UserWarning: The initializer RandomNormal is unseeded and being called multiple times, which will return identical values each time (even if the initializer is unseeded). Please update your code to provide a seed to the initializer, or avoid using the same initializer instance more than once.\n",
            "  warnings.warn(\n",
            "/Users/quentinsurdez/Admin/HEIG/BA5/ARN/Lab/ARN/.venv/lib/python3.9/site-packages/tf_keras/src/initializers/initializers.py:121: UserWarning: The initializer RandomNormal is unseeded and being called multiple times, which will return identical values each time (even if the initializer is unseeded). Please update your code to provide a seed to the initializer, or avoid using the same initializer instance more than once.\n",
            "  warnings.warn(\n",
            "/Users/quentinsurdez/Admin/HEIG/BA5/ARN/Lab/ARN/.venv/lib/python3.9/site-packages/tf_keras/src/initializers/initializers.py:121: UserWarning: The initializer RandomNormal is unseeded and being called multiple times, which will return identical values each time (even if the initializer is unseeded). Please update your code to provide a seed to the initializer, or avoid using the same initializer instance more than once.\n",
            "  warnings.warn(\n",
            "/Users/quentinsurdez/Admin/HEIG/BA5/ARN/Lab/ARN/.venv/lib/python3.9/site-packages/tf_keras/src/initializers/initializers.py:121: UserWarning: The initializer RandomNormal is unseeded and being called multiple times, which will return identical values each time (even if the initializer is unseeded). Please update your code to provide a seed to the initializer, or avoid using the same initializer instance more than once.\n",
            "  warnings.warn(\n",
            "/Users/quentinsurdez/Admin/HEIG/BA5/ARN/Lab/ARN/.venv/lib/python3.9/site-packages/tf_keras/src/initializers/initializers.py:121: UserWarning: The initializer RandomNormal is unseeded and being called multiple times, which will return identical values each time (even if the initializer is unseeded). Please update your code to provide a seed to the initializer, or avoid using the same initializer instance more than once.\n",
            "  warnings.warn(\n",
            "/Users/quentinsurdez/Admin/HEIG/BA5/ARN/Lab/ARN/.venv/lib/python3.9/site-packages/tf_keras/src/initializers/initializers.py:121: UserWarning: The initializer RandomNormal is unseeded and being called multiple times, which will return identical values each time (even if the initializer is unseeded). Please update your code to provide a seed to the initializer, or avoid using the same initializer instance more than once.\n",
            "  warnings.warn(\n",
            "/Users/quentinsurdez/Admin/HEIG/BA5/ARN/Lab/ARN/.venv/lib/python3.9/site-packages/tf_keras/src/initializers/initializers.py:121: UserWarning: The initializer RandomNormal is unseeded and being called multiple times, which will return identical values each time (even if the initializer is unseeded). Please update your code to provide a seed to the initializer, or avoid using the same initializer instance more than once.\n",
            "  warnings.warn(\n",
            "/Users/quentinsurdez/Admin/HEIG/BA5/ARN/Lab/ARN/.venv/lib/python3.9/site-packages/tf_keras/src/initializers/initializers.py:121: UserWarning: The initializer RandomNormal is unseeded and being called multiple times, which will return identical values each time (even if the initializer is unseeded). Please update your code to provide a seed to the initializer, or avoid using the same initializer instance more than once.\n",
            "  warnings.warn(\n",
            "/Users/quentinsurdez/Admin/HEIG/BA5/ARN/Lab/ARN/.venv/lib/python3.9/site-packages/tf_keras/src/initializers/initializers.py:121: UserWarning: The initializer RandomNormal is unseeded and being called multiple times, which will return identical values each time (even if the initializer is unseeded). Please update your code to provide a seed to the initializer, or avoid using the same initializer instance more than once.\n",
            "  warnings.warn(\n"
          ]
        }
      ],
      "source": [
        "import numpy as np\n",
        "import cv2\n",
        "from glob import glob\n",
        "import tf_keras as keras # We need to use tf_keras because the models saved were trained before Keras 3\n",
        "\n",
        "root_path = '../dcgan'\n",
        "\n",
        "# Load the generator models we trained\n",
        "g_models = [keras.models.load_model(f'{root_path}/generator_{model_idx}', compile=False) for model_idx in np.arange(1, 7)]\n",
        "\n",
        "# Load the discriminator models we trained\n",
        "d_models = [keras.models.load_model(f'{root_path}/discriminator_{model_idx}', compile=False) for model_idx in np.arange(1, 7)]\n",
        "\n",
        "# Open generated images for each epochs of each of the models we trained\n",
        "generated_images = np.stack([\n",
        "  [\n",
        "    cv2.imread(f'{root_path}/outputs/dcgan_{gan_idx}/images/{epoch}.png')\n",
        "    for epoch in np.arange(1, 41)\n",
        "  ]\n",
        "  for gan_idx in np.arange(1, 7)\n",
        "])\n",
        "\n",
        "# Open loss history images\n",
        "loss_history_images = [\n",
        "    cv2.imread(f'{root_path}/outputs/dcgan_{gan_idx}/loss_dcgan_{gan_idx}.png')\n",
        "    for gan_idx in np.arange(1, 7)\n",
        "]"
      ]
    },
    {
      "cell_type": "markdown",
      "metadata": {
        "id": "w-7TsU3J3eW_"
      },
      "source": [
        "## <font color=\"#59B4C3\">🗒&nbsp;&nbsp;Experiments Summary</font>\n",
        "\n",
        "### Filters\n",
        "\n",
        "1. Discriminator: 64, 128, 256. Generator: 7x7x256, 256, 1\n",
        "2. Discriminator: **32**, **64**, **128**. Generator: 7x7x256, 256, 1\n",
        "3. Discriminator: **8**, **16**, **32**. Generator: 7x7x256, 256, 1\n",
        "4. Discriminator: 64, 128, 256. Generator: 7x7x256, **512**, 1\n",
        "5. Discriminator: 64, 128, 256. Generator: 7x7x**128**, **128**, 1\n",
        "6. \\*Discriminator: 64, 128, 256. Generator: 7x7x256, 256, 1\n",
        "\n",
        "\\* The 6th experiment has the same number of filters as the expirement one excepted that the architecture don't follow the guidelines (of having batchnorm, strided convolution & transposed convolutions, ...) so this experiment should be more unstable.\n",
        "\n",
        "See the model summaries for more details."
      ]
    },
    {
      "cell_type": "code",
      "execution_count": null,
      "metadata": {
        "colab": {
          "base_uri": "https://localhost:8080/",
          "height": 1000,
          "referenced_widgets": [
            "5c67ee6765464269a73c4994a05c4b11",
            "062e8fc93ca945678496b4e569fa7e96",
            "272858dac17e4defa8ebe175444ddebd",
            "6e5f7f253437416195e114fd2363f944",
            "9acf255828744816b52828ef7a57fbe0",
            "a99f13d7816843b2832efd9e45c6a6ff",
            "5dd7a726e98a43b4816741b5dc6b4414"
          ]
        },
        "id": "B9mV2G2V2tHY",
        "outputId": "8c6a0b77-2b19-4c02-e79e-6622c57fede2"
      },
      "outputs": [],
      "source": [
        "from ipywidgets import interact\n",
        "import ipywidgets as widgets\n",
        "\n",
        "def display_summary(experiment):\n",
        "  print(\"Generator:\\n---------\")\n",
        "  print(g_models[experiment - 1].summary())\n",
        "  print(\"\\n\\nDiscriminator:\\n---------\")\n",
        "  print(d_models[experiment - 1].summary())\n",
        "\n",
        "experiment_dropdown = widgets.Dropdown(\n",
        "    options=[i for i in np.arange(1, 7)],\n",
        "    value=1,\n",
        "    description='Experiment:',\n",
        "    disabled=False,\n",
        ")\n",
        "\n",
        "interact(display_summary, experiment=experiment_dropdown);"
      ]
    },
    {
      "cell_type": "markdown",
      "metadata": {
        "id": "_ds6qxio8MYA"
      },
      "source": [
        "## <font color=\"#59B4C3\">🔍&nbsp;&nbsp;Inspect Results</font>"
      ]
    },
    {
      "cell_type": "code",
      "execution_count": 7,
      "metadata": {
        "colab": {
          "base_uri": "https://localhost:8080/",
          "height": 644
        },
        "id": "V_KlznRV8q6z",
        "outputId": "8a65595e-c35e-4bff-f6f0-ad1ac3ff6f39"
      },
      "outputs": [
        {
          "data": {
            "image/png": "[encoded data removed]",
            "text/plain": [
              "<Figure size 1600x800 with 6 Axes>"
            ]
          },
          "metadata": {},
          "output_type": "display_data"
        }
      ],
      "source": [
        "import matplotlib.pyplot as plt\n",
        "\n",
        "fig, axs = plt.subplots(2, 3, figsize=(16, 8), dpi=100)\n",
        "\n",
        "for experiment_idx in np.arange(0, 6):\n",
        "  axs[experiment_idx // 3][experiment_idx % 3].set_title(f\"Exp. {experiment_idx + 1}\")\n",
        "  axs[experiment_idx // 3][experiment_idx % 3].axis('Off')\n",
        "  axs[experiment_idx // 3][experiment_idx % 3].imshow(loss_history_images[experiment_idx])"
      ]
    },
    {
      "cell_type": "code",
      "execution_count": null,
      "metadata": {
        "colab": {
          "base_uri": "https://localhost:8080/",
          "height": 471,
          "referenced_widgets": [
            "218a598f98384ab69bef92e300b93dca",
            "e4acb6f68bdb4310adfc66c9f413ca95",
            "5d7c2960eee94f7bba1a977ad27a4dcf",
            "6192fbdcbe44472d953b04abd27127ba",
            "f96d4d532e344556ac7c7ca0a5ca5818",
            "af8ba6c734d548ee9b0ac3757e4b7fbc",
            "c5eea867b160495eb29bcac521d40ea2",
            "3dedfa335e5746c8b225b154bd964647",
            "39386891719442b7a3688b1db76cea1b",
            "ed1343825b3a4b77a30f3f88403a16f2"
          ]
        },
        "id": "7OvOUnlN6eFs",
        "outputId": "b0c4d2e9-aa91-4a17-9139-ec911fba8dd6"
      },
      "outputs": [
        {
          "data": {
            "application/vnd.jupyter.widget-view+json": {
              "model_id": "218a598f98384ab69bef92e300b93dca",
              "version_major": 2,
              "version_minor": 0
            },
            "text/plain": [
              "interactive(children=(Dropdown(description='Experiment:', options=(1, 2, 3, 4, 5, 6), value=1), BoundedIntText…"
            ]
          },
          "metadata": {},
          "output_type": "display_data"
        }
      ],
      "source": [
        "def display_epoch_sample_output(experiment, epoch):\n",
        "  plt.imshow(generated_images[experiment - 1][epoch - 1], cmap=\"gray\")\n",
        "  plt.axis('off')\n",
        "  plt.show()\n",
        "\n",
        "epoch_selection = widgets.BoundedIntText(\n",
        "    value=1,\n",
        "    min=1,\n",
        "    max=40,\n",
        "    step=1,\n",
        "    description='Epoch:',\n",
        ")\n",
        "\n",
        "experiment_dropdown = widgets.Dropdown(\n",
        "    options=[i for i in np.arange(1, 7)],\n",
        "    value=1,\n",
        "    description='Experiment:',\n",
        "    disabled=False,\n",
        ")\n",
        "\n",
        "interact(display_epoch_sample_output, experiment=experiment_dropdown, epoch=epoch_selection);"
      ]
    },
    {
      "cell_type": "markdown",
      "metadata": {
        "id": "P-oR-ckq-qUH"
      },
      "source": [
        "### Questions 1.4\n",
        "\n",
        "<pre>\n",
        "<font color=\"#74E291\">❓ Can you rely only on the loss of the generator and discriminator to choose the best model?\n",
        "If no, provide a counter-example.\n",
        "\n",
        "❓ In the third experiment we significatively reduced the number of parameters of the discriminator\n",
        "compared to the other experiments. Did it helped the generator to produce better images? Why?\n",
        "\n",
        "❓ Compare experiments 1 and 6. Remember, They use the same number of filters\n",
        "but have a different architecture.\n",
        "\n",
        "❓ In experiment 5, we decrease the number of paramers of the generator. What was the impact?\n",
        "</pre>"
      ]
    }
  ],
  "metadata": {
    "colab": {
      "provenance": []
    },
    "kernelspec": {
      "display_name": "Python arn",
      "language": "python",
      "name": "arn"
    },
    "language_info": {
      "codemirror_mode": {
        "name": "ipython",
        "version": 3
      },
      "file_extension": ".py",
      "mimetype": "text/x-python",
      "name": "python",
      "nbconvert_exporter": "python",
      "pygments_lexer": "ipython3",
      "version": "3.9.6"
    },
    "widgets": {
      "application/vnd.jupyter.widget-state+json": {
        "062e8fc93ca945678496b4e569fa7e96": {
          "model_module": "@jupyter-widgets/controls",
          "model_module_version": "1.5.0",
          "model_name": "DropdownModel",
          "state": {
            "_dom_classes": [],
            "_model_module": "@jupyter-widgets/controls",
            "_model_module_version": "1.5.0",
            "_model_name": "DropdownModel",
            "_options_labels": [
              "1",
              "2",
              "3",
              "4",
              "5",
              "6"
            ],
            "_view_count": null,
            "_view_module": "@jupyter-widgets/controls",
            "_view_module_version": "1.5.0",
            "_view_name": "DropdownView",
            "description": "Experiment:",
            "description_tooltip": null,
            "disabled": false,
            "index": 0,
            "layout": "IPY_MODEL_9acf255828744816b52828ef7a57fbe0",
            "style": "IPY_MODEL_a99f13d7816843b2832efd9e45c6a6ff"
          }
        },
        "218a598f98384ab69bef92e300b93dca": {
          "model_module": "@jupyter-widgets/controls",
          "model_module_version": "1.5.0",
          "model_name": "VBoxModel",
          "state": {
            "_dom_classes": [
              "widget-interact"
            ],
            "_model_module": "@jupyter-widgets/controls",
            "_model_module_version": "1.5.0",
            "_model_name": "VBoxModel",
            "_view_count": null,
            "_view_module": "@jupyter-widgets/controls",
            "_view_module_version": "1.5.0",
            "_view_name": "VBoxView",
            "box_style": "",
            "children": [
              "IPY_MODEL_e4acb6f68bdb4310adfc66c9f413ca95",
              "IPY_MODEL_5d7c2960eee94f7bba1a977ad27a4dcf",
              "IPY_MODEL_6192fbdcbe44472d953b04abd27127ba"
            ],
            "layout": "IPY_MODEL_f96d4d532e344556ac7c7ca0a5ca5818"
          }
        },
        "272858dac17e4defa8ebe175444ddebd": {
          "model_module": "@jupyter-widgets/output",
          "model_module_version": "1.0.0",
          "model_name": "OutputModel",
          "state": {
            "_dom_classes": [],
            "_model_module": "@jupyter-widgets/output",
            "_model_module_version": "1.0.0",
            "_model_name": "OutputModel",
            "_view_count": null,
            "_view_module": "@jupyter-widgets/output",
            "_view_module_version": "1.0.0",
            "_view_name": "OutputView",
            "layout": "IPY_MODEL_5dd7a726e98a43b4816741b5dc6b4414",
            "msg_id": "",
            "outputs": [
              {
                "name": "stdout",
                "output_type": "stream",
                "text": [
                  "Generator:\n",
                  "---------\n",
                  "Model: \"generator\"\n"
                ]
              },
              {
                "name": "stdout",
                "output_type": "stream",
                "text": [
                  "_________________________________________________________________\n"
                ]
              },
              {
                "name": "stdout",
                "output_type": "stream",
                "text": [
                  " Layer (type)                Output Shape              Param #   \n"
                ]
              },
              {
                "name": "stdout",
                "output_type": "stream",
                "text": [
                  "=================================================================\n"
                ]
              },
              {
                "name": "stdout",
                "output_type": "stream",
                "text": [
                  " dense_6 (Dense)             (None, 12544)             1618176   \n"
                ]
              },
              {
                "name": "stdout",
                "output_type": "stream",
                "text": [
                  "                                                                 \n"
                ]
              },
              {
                "name": "stdout",
                "output_type": "stream",
                "text": [
                  " batch_normalization_15 (Ba  (None, 12544)             50176     \n"
                ]
              },
              {
                "name": "stdout",
                "output_type": "stream",
                "text": [
                  " tchNormalization)                                               \n"
                ]
              },
              {
                "name": "stdout",
                "output_type": "stream",
                "text": [
                  "                                                                 \n"
                ]
              },
              {
                "name": "stdout",
                "output_type": "stream",
                "text": [
                  " activation_9 (Activation)   (None, 12544)             0         \n"
                ]
              },
              {
                "name": "stdout",
                "output_type": "stream",
                "text": [
                  "                                                                 \n"
                ]
              },
              {
                "name": "stdout",
                "output_type": "stream",
                "text": [
                  " reshape_3 (Reshape)         (None, 7, 7, 256)         0         \n"
                ]
              },
              {
                "name": "stdout",
                "output_type": "stream",
                "text": [
                  "                                                                 \n"
                ]
              },
              {
                "name": "stdout",
                "output_type": "stream",
                "text": [
                  " conv2d_transpose_6 (Conv2D  (None, 14, 14, 256)       1048832   \n"
                ]
              },
              {
                "name": "stdout",
                "output_type": "stream",
                "text": [
                  " Transpose)                                                      \n"
                ]
              },
              {
                "name": "stdout",
                "output_type": "stream",
                "text": [
                  "                                                                 \n"
                ]
              },
              {
                "name": "stdout",
                "output_type": "stream",
                "text": [
                  " batch_normalization_16 (Ba  (None, 14, 14, 256)       1024      \n"
                ]
              },
              {
                "name": "stdout",
                "output_type": "stream",
                "text": [
                  " tchNormalization)                                               \n"
                ]
              },
              {
                "name": "stdout",
                "output_type": "stream",
                "text": [
                  "                                                                 \n"
                ]
              },
              {
                "name": "stdout",
                "output_type": "stream",
                "text": [
                  " activation_10 (Activation)  (None, 14, 14, 256)       0         \n"
                ]
              },
              {
                "name": "stdout",
                "output_type": "stream",
                "text": [
                  "                                                                 \n"
                ]
              },
              {
                "name": "stdout",
                "output_type": "stream",
                "text": [
                  " conv2d_transpose_7 (Conv2D  (None, 28, 28, 1)         6401      \n"
                ]
              },
              {
                "name": "stdout",
                "output_type": "stream",
                "text": [
                  " Transpose)                                                      \n"
                ]
              },
              {
                "name": "stdout",
                "output_type": "stream",
                "text": [
                  "                                                                 \n"
                ]
              },
              {
                "name": "stdout",
                "output_type": "stream",
                "text": [
                  " activation_11 (Activation)  (None, 28, 28, 1)         0         \n"
                ]
              },
              {
                "name": "stdout",
                "output_type": "stream",
                "text": [
                  "                                                                 \n"
                ]
              },
              {
                "name": "stdout",
                "output_type": "stream",
                "text": [
                  "=================================================================\n"
                ]
              },
              {
                "name": "stdout",
                "output_type": "stream",
                "text": [
                  "Total params: 2724609 (10.39 MB)\n"
                ]
              },
              {
                "name": "stdout",
                "output_type": "stream",
                "text": [
                  "Trainable params: 2699009 (10.30 MB)\n"
                ]
              },
              {
                "name": "stdout",
                "output_type": "stream",
                "text": [
                  "Non-trainable params: 25600 (100.00 KB)\n"
                ]
              },
              {
                "name": "stdout",
                "output_type": "stream",
                "text": [
                  "_________________________________________________________________\n"
                ]
              },
              {
                "name": "stdout",
                "output_type": "stream",
                "text": [
                  "None\n",
                  "\n",
                  "\n",
                  "Discriminator:\n",
                  "---------\n",
                  "Model: \"discriminator\"\n"
                ]
              },
              {
                "name": "stdout",
                "output_type": "stream",
                "text": [
                  "_________________________________________________________________\n"
                ]
              },
              {
                "name": "stdout",
                "output_type": "stream",
                "text": [
                  " Layer (type)                Output Shape              Param #   \n"
                ]
              },
              {
                "name": "stdout",
                "output_type": "stream",
                "text": [
                  "=================================================================\n"
                ]
              },
              {
                "name": "stdout",
                "output_type": "stream",
                "text": [
                  " conv2d_12 (Conv2D)          (None, 14, 14, 64)        1088      \n"
                ]
              },
              {
                "name": "stdout",
                "output_type": "stream",
                "text": [
                  "                                                                 \n"
                ]
              },
              {
                "name": "stdout",
                "output_type": "stream",
                "text": [
                  " batch_normalization_20 (Ba  (None, 14, 14, 64)        256       \n"
                ]
              },
              {
                "name": "stdout",
                "output_type": "stream",
                "text": [
                  " tchNormalization)                                               \n"
                ]
              },
              {
                "name": "stdout",
                "output_type": "stream",
                "text": [
                  "                                                                 \n"
                ]
              },
              {
                "name": "stdout",
                "output_type": "stream",
                "text": [
                  " leaky_re_lu_12 (LeakyReLU)  (None, 14, 14, 64)        0         \n"
                ]
              },
              {
                "name": "stdout",
                "output_type": "stream",
                "text": [
                  "                                                                 \n"
                ]
              },
              {
                "name": "stdout",
                "output_type": "stream",
                "text": [
                  " conv2d_13 (Conv2D)          (None, 7, 7, 128)         131200    \n"
                ]
              },
              {
                "name": "stdout",
                "output_type": "stream",
                "text": [
                  "                                                                 \n"
                ]
              },
              {
                "name": "stdout",
                "output_type": "stream",
                "text": [
                  " batch_normalization_21 (Ba  (None, 7, 7, 128)         512       \n"
                ]
              },
              {
                "name": "stdout",
                "output_type": "stream",
                "text": [
                  " tchNormalization)                                               \n"
                ]
              },
              {
                "name": "stdout",
                "output_type": "stream",
                "text": [
                  "                                                                 \n"
                ]
              },
              {
                "name": "stdout",
                "output_type": "stream",
                "text": [
                  " leaky_re_lu_13 (LeakyReLU)  (None, 7, 7, 128)         0         \n"
                ]
              },
              {
                "name": "stdout",
                "output_type": "stream",
                "text": [
                  "                                                                 \n"
                ]
              },
              {
                "name": "stdout",
                "output_type": "stream",
                "text": [
                  " conv2d_14 (Conv2D)          (None, 4, 4, 256)         524544    \n"
                ]
              },
              {
                "name": "stdout",
                "output_type": "stream",
                "text": [
                  "                                                                 \n"
                ]
              },
              {
                "name": "stdout",
                "output_type": "stream",
                "text": [
                  " batch_normalization_22 (Ba  (None, 4, 4, 256)         1024      \n"
                ]
              },
              {
                "name": "stdout",
                "output_type": "stream",
                "text": [
                  " tchNormalization)                                               \n"
                ]
              },
              {
                "name": "stdout",
                "output_type": "stream",
                "text": [
                  "                                                                 \n"
                ]
              },
              {
                "name": "stdout",
                "output_type": "stream",
                "text": [
                  " leaky_re_lu_14 (LeakyReLU)  (None, 4, 4, 256)         0         \n"
                ]
              },
              {
                "name": "stdout",
                "output_type": "stream",
                "text": [
                  "                                                                 \n"
                ]
              },
              {
                "name": "stdout",
                "output_type": "stream",
                "text": [
                  " flatten_4 (Flatten)         (None, 4096)              0         \n"
                ]
              },
              {
                "name": "stdout",
                "output_type": "stream",
                "text": [
                  "                                                                 \n"
                ]
              },
              {
                "name": "stdout",
                "output_type": "stream",
                "text": [
                  " dropout_4 (Dropout)         (None, 4096)              0         \n"
                ]
              },
              {
                "name": "stdout",
                "output_type": "stream",
                "text": [
                  "                                                                 \n"
                ]
              },
              {
                "name": "stdout",
                "output_type": "stream",
                "text": [
                  " dense_8 (Dense)             (None, 1)                 4097      \n"
                ]
              },
              {
                "name": "stdout",
                "output_type": "stream",
                "text": [
                  "                                                                 \n"
                ]
              },
              {
                "name": "stdout",
                "output_type": "stream",
                "text": [
                  "=================================================================\n"
                ]
              },
              {
                "name": "stdout",
                "output_type": "stream",
                "text": [
                  "Total params: 662721 (2.53 MB)\n"
                ]
              },
              {
                "name": "stdout",
                "output_type": "stream",
                "text": [
                  "Trainable params: 661825 (2.52 MB)\n"
                ]
              },
              {
                "name": "stdout",
                "output_type": "stream",
                "text": [
                  "Non-trainable params: 896 (3.50 KB)\n"
                ]
              },
              {
                "name": "stdout",
                "output_type": "stream",
                "text": [
                  "_________________________________________________________________\n"
                ]
              },
              {
                "name": "stdout",
                "output_type": "stream",
                "text": [
                  "None\n"
                ]
              }
            ]
          }
        },
        "39386891719442b7a3688b1db76cea1b": {
          "model_module": "@jupyter-widgets/controls",
          "model_module_version": "1.5.0",
          "model_name": "DescriptionStyleModel",
          "state": {
            "_model_module": "@jupyter-widgets/controls",
            "_model_module_version": "1.5.0",
            "_model_name": "DescriptionStyleModel",
            "_view_count": null,
            "_view_module": "@jupyter-widgets/base",
            "_view_module_version": "1.2.0",
            "_view_name": "StyleView",
            "description_width": ""
          }
        },
        "3dedfa335e5746c8b225b154bd964647": {
          "model_module": "@jupyter-widgets/base",
          "model_module_version": "1.2.0",
          "model_name": "LayoutModel",
          "state": {
            "_model_module": "@jupyter-widgets/base",
            "_model_module_version": "1.2.0",
            "_model_name": "LayoutModel",
            "_view_count": null,
            "_view_module": "@jupyter-widgets/base",
            "_view_module_version": "1.2.0",
            "_view_name": "LayoutView",
            "align_content": null,
            "align_items": null,
            "align_self": null,
            "border": null,
            "bottom": null,
            "display": null,
            "flex": null,
            "flex_flow": null,
            "grid_area": null,
            "grid_auto_columns": null,
            "grid_auto_flow": null,
            "grid_auto_rows": null,
            "grid_column": null,
            "grid_gap": null,
            "grid_row": null,
            "grid_template_areas": null,
            "grid_template_columns": null,
            "grid_template_rows": null,
            "height": null,
            "justify_content": null,
            "justify_items": null,
            "left": null,
            "margin": null,
            "max_height": null,
            "max_width": null,
            "min_height": null,
            "min_width": null,
            "object_fit": null,
            "object_position": null,
            "order": null,
            "overflow": null,
            "overflow_x": null,
            "overflow_y": null,
            "padding": null,
            "right": null,
            "top": null,
            "visibility": null,
            "width": null
          }
        },
        "5c67ee6765464269a73c4994a05c4b11": {
          "model_module": "@jupyter-widgets/controls",
          "model_module_version": "1.5.0",
          "model_name": "VBoxModel",
          "state": {
            "_dom_classes": [
              "widget-interact"
            ],
            "_model_module": "@jupyter-widgets/controls",
            "_model_module_version": "1.5.0",
            "_model_name": "VBoxModel",
            "_view_count": null,
            "_view_module": "@jupyter-widgets/controls",
            "_view_module_version": "1.5.0",
            "_view_name": "VBoxView",
            "box_style": "",
            "children": [
              "IPY_MODEL_062e8fc93ca945678496b4e569fa7e96",
              "IPY_MODEL_272858dac17e4defa8ebe175444ddebd"
            ],
            "layout": "IPY_MODEL_6e5f7f253437416195e114fd2363f944"
          }
        },
        "5d7c2960eee94f7bba1a977ad27a4dcf": {
          "model_module": "@jupyter-widgets/controls",
          "model_module_version": "1.5.0",
          "model_name": "BoundedIntTextModel",
          "state": {
            "_dom_classes": [],
            "_model_module": "@jupyter-widgets/controls",
            "_model_module_version": "1.5.0",
            "_model_name": "BoundedIntTextModel",
            "_view_count": null,
            "_view_module": "@jupyter-widgets/controls",
            "_view_module_version": "1.5.0",
            "_view_name": "IntTextView",
            "continuous_update": false,
            "description": "Epoch:",
            "description_tooltip": null,
            "disabled": false,
            "layout": "IPY_MODEL_3dedfa335e5746c8b225b154bd964647",
            "max": 40,
            "min": 1,
            "step": 1,
            "style": "IPY_MODEL_39386891719442b7a3688b1db76cea1b",
            "value": 1
          }
        },
        "5dd7a726e98a43b4816741b5dc6b4414": {
          "model_module": "@jupyter-widgets/base",
          "model_module_version": "1.2.0",
          "model_name": "LayoutModel",
          "state": {
            "_model_module": "@jupyter-widgets/base",
            "_model_module_version": "1.2.0",
            "_model_name": "LayoutModel",
            "_view_count": null,
            "_view_module": "@jupyter-widgets/base",
            "_view_module_version": "1.2.0",
            "_view_name": "LayoutView",
            "align_content": null,
            "align_items": null,
            "align_self": null,
            "border": null,
            "bottom": null,
            "display": null,
            "flex": null,
            "flex_flow": null,
            "grid_area": null,
            "grid_auto_columns": null,
            "grid_auto_flow": null,
            "grid_auto_rows": null,
            "grid_column": null,
            "grid_gap": null,
            "grid_row": null,
            "grid_template_areas": null,
            "grid_template_columns": null,
            "grid_template_rows": null,
            "height": null,
            "justify_content": null,
            "justify_items": null,
            "left": null,
            "margin": null,
            "max_height": null,
            "max_width": null,
            "min_height": null,
            "min_width": null,
            "object_fit": null,
            "object_position": null,
            "order": null,
            "overflow": null,
            "overflow_x": null,
            "overflow_y": null,
            "padding": null,
            "right": null,
            "top": null,
            "visibility": null,
            "width": null
          }
        },
        "6192fbdcbe44472d953b04abd27127ba": {
          "model_module": "@jupyter-widgets/output",
          "model_module_version": "1.0.0",
          "model_name": "OutputModel",
          "state": {
            "_dom_classes": [],
            "_model_module": "@jupyter-widgets/output",
            "_model_module_version": "1.0.0",
            "_model_name": "OutputModel",
            "_view_count": null,
            "_view_module": "@jupyter-widgets/output",
            "_view_module_version": "1.0.0",
            "_view_name": "OutputView",
            "layout": "IPY_MODEL_ed1343825b3a4b77a30f3f88403a16f2",
            "msg_id": "",
            "outputs": [
              {
                "data": {
                  "image/png": "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\n",
                  "text/plain": "<Figure size 640x480 with 1 Axes>"
                },
                "metadata": {},
                "output_type": "display_data"
              }
            ]
          }
        },
        "6e5f7f253437416195e114fd2363f944": {
          "model_module": "@jupyter-widgets/base",
          "model_module_version": "1.2.0",
          "model_name": "LayoutModel",
          "state": {
            "_model_module": "@jupyter-widgets/base",
            "_model_module_version": "1.2.0",
            "_model_name": "LayoutModel",
            "_view_count": null,
            "_view_module": "@jupyter-widgets/base",
            "_view_module_version": "1.2.0",
            "_view_name": "LayoutView",
            "align_content": null,
            "align_items": null,
            "align_self": null,
            "border": null,
            "bottom": null,
            "display": null,
            "flex": null,
            "flex_flow": null,
            "grid_area": null,
            "grid_auto_columns": null,
            "grid_auto_flow": null,
            "grid_auto_rows": null,
            "grid_column": null,
            "grid_gap": null,
            "grid_row": null,
            "grid_template_areas": null,
            "grid_template_columns": null,
            "grid_template_rows": null,
            "height": null,
            "justify_content": null,
            "justify_items": null,
            "left": null,
            "margin": null,
            "max_height": null,
            "max_width": null,
            "min_height": null,
            "min_width": null,
            "object_fit": null,
            "object_position": null,
            "order": null,
            "overflow": null,
            "overflow_x": null,
            "overflow_y": null,
            "padding": null,
            "right": null,
            "top": null,
            "visibility": null,
            "width": null
          }
        },
        "9acf255828744816b52828ef7a57fbe0": {
          "model_module": "@jupyter-widgets/base",
          "model_module_version": "1.2.0",
          "model_name": "LayoutModel",
          "state": {
            "_model_module": "@jupyter-widgets/base",
            "_model_module_version": "1.2.0",
            "_model_name": "LayoutModel",
            "_view_count": null,
            "_view_module": "@jupyter-widgets/base",
            "_view_module_version": "1.2.0",
            "_view_name": "LayoutView",
            "align_content": null,
            "align_items": null,
            "align_self": null,
            "border": null,
            "bottom": null,
            "display": null,
            "flex": null,
            "flex_flow": null,
            "grid_area": null,
            "grid_auto_columns": null,
            "grid_auto_flow": null,
            "grid_auto_rows": null,
            "grid_column": null,
            "grid_gap": null,
            "grid_row": null,
            "grid_template_areas": null,
            "grid_template_columns": null,
            "grid_template_rows": null,
            "height": null,
            "justify_content": null,
            "justify_items": null,
            "left": null,
            "margin": null,
            "max_height": null,
            "max_width": null,
            "min_height": null,
            "min_width": null,
            "object_fit": null,
            "object_position": null,
            "order": null,
            "overflow": null,
            "overflow_x": null,
            "overflow_y": null,
            "padding": null,
            "right": null,
            "top": null,
            "visibility": null,
            "width": null
          }
        },
        "a99f13d7816843b2832efd9e45c6a6ff": {
          "model_module": "@jupyter-widgets/controls",
          "model_module_version": "1.5.0",
          "model_name": "DescriptionStyleModel",
          "state": {
            "_model_module": "@jupyter-widgets/controls",
            "_model_module_version": "1.5.0",
            "_model_name": "DescriptionStyleModel",
            "_view_count": null,
            "_view_module": "@jupyter-widgets/base",
            "_view_module_version": "1.2.0",
            "_view_name": "StyleView",
            "description_width": ""
          }
        },
        "af8ba6c734d548ee9b0ac3757e4b7fbc": {
          "model_module": "@jupyter-widgets/base",
          "model_module_version": "1.2.0",
          "model_name": "LayoutModel",
          "state": {
            "_model_module": "@jupyter-widgets/base",
            "_model_module_version": "1.2.0",
            "_model_name": "LayoutModel",
            "_view_count": null,
            "_view_module": "@jupyter-widgets/base",
            "_view_module_version": "1.2.0",
            "_view_name": "LayoutView",
            "align_content": null,
            "align_items": null,
            "align_self": null,
            "border": null,
            "bottom": null,
            "display": null,
            "flex": null,
            "flex_flow": null,
            "grid_area": null,
            "grid_auto_columns": null,
            "grid_auto_flow": null,
            "grid_auto_rows": null,
            "grid_column": null,
            "grid_gap": null,
            "grid_row": null,
            "grid_template_areas": null,
            "grid_template_columns": null,
            "grid_template_rows": null,
            "height": null,
            "justify_content": null,
            "justify_items": null,
            "left": null,
            "margin": null,
            "max_height": null,
            "max_width": null,
            "min_height": null,
            "min_width": null,
            "object_fit": null,
            "object_position": null,
            "order": null,
            "overflow": null,
            "overflow_x": null,
            "overflow_y": null,
            "padding": null,
            "right": null,
            "top": null,
            "visibility": null,
            "width": null
          }
        },
        "c5eea867b160495eb29bcac521d40ea2": {
          "model_module": "@jupyter-widgets/controls",
          "model_module_version": "1.5.0",
          "model_name": "DescriptionStyleModel",
          "state": {
            "_model_module": "@jupyter-widgets/controls",
            "_model_module_version": "1.5.0",
            "_model_name": "DescriptionStyleModel",
            "_view_count": null,
            "_view_module": "@jupyter-widgets/base",
            "_view_module_version": "1.2.0",
            "_view_name": "StyleView",
            "description_width": ""
          }
        },
        "e4acb6f68bdb4310adfc66c9f413ca95": {
          "model_module": "@jupyter-widgets/controls",
          "model_module_version": "1.5.0",
          "model_name": "DropdownModel",
          "state": {
            "_dom_classes": [],
            "_model_module": "@jupyter-widgets/controls",
            "_model_module_version": "1.5.0",
            "_model_name": "DropdownModel",
            "_options_labels": [
              "1",
              "2",
              "3",
              "4",
              "5",
              "6"
            ],
            "_view_count": null,
            "_view_module": "@jupyter-widgets/controls",
            "_view_module_version": "1.5.0",
            "_view_name": "DropdownView",
            "description": "Experiment:",
            "description_tooltip": null,
            "disabled": false,
            "index": 3,
            "layout": "IPY_MODEL_af8ba6c734d548ee9b0ac3757e4b7fbc",
            "style": "IPY_MODEL_c5eea867b160495eb29bcac521d40ea2"
          }
        },
        "ed1343825b3a4b77a30f3f88403a16f2": {
          "model_module": "@jupyter-widgets/base",
          "model_module_version": "1.2.0",
          "model_name": "LayoutModel",
          "state": {
            "_model_module": "@jupyter-widgets/base",
            "_model_module_version": "1.2.0",
            "_model_name": "LayoutModel",
            "_view_count": null,
            "_view_module": "@jupyter-widgets/base",
            "_view_module_version": "1.2.0",
            "_view_name": "LayoutView",
            "align_content": null,
            "align_items": null,
            "align_self": null,
            "border": null,
            "bottom": null,
            "display": null,
            "flex": null,
            "flex_flow": null,
            "grid_area": null,
            "grid_auto_columns": null,
            "grid_auto_flow": null,
            "grid_auto_rows": null,
            "grid_column": null,
            "grid_gap": null,
            "grid_row": null,
            "grid_template_areas": null,
            "grid_template_columns": null,
            "grid_template_rows": null,
            "height": null,
            "justify_content": null,
            "justify_items": null,
            "left": null,
            "margin": null,
            "max_height": null,
            "max_width": null,
            "min_height": null,
            "min_width": null,
            "object_fit": null,
            "object_position": null,
            "order": null,
            "overflow": null,
            "overflow_x": null,
            "overflow_y": null,
            "padding": null,
            "right": null,
            "top": null,
            "visibility": null,
            "width": null
          }
        },
        "f96d4d532e344556ac7c7ca0a5ca5818": {
          "model_module": "@jupyter-widgets/base",
          "model_module_version": "1.2.0",
          "model_name": "LayoutModel",
          "state": {
            "_model_module": "@jupyter-widgets/base",
            "_model_module_version": "1.2.0",
            "_model_name": "LayoutModel",
            "_view_count": null,
            "_view_module": "@jupyter-widgets/base",
            "_view_module_version": "1.2.0",
            "_view_name": "LayoutView",
            "align_content": null,
            "align_items": null,
            "align_self": null,
            "border": null,
            "bottom": null,
            "display": null,
            "flex": null,
            "flex_flow": null,
            "grid_area": null,
            "grid_auto_columns": null,
            "grid_auto_flow": null,
            "grid_auto_rows": null,
            "grid_column": null,
            "grid_gap": null,
            "grid_row": null,
            "grid_template_areas": null,
            "grid_template_columns": null,
            "grid_template_rows": null,
            "height": null,
            "justify_content": null,
            "justify_items": null,
            "left": null,
            "margin": null,
            "max_height": null,
            "max_width": null,
            "min_height": null,
            "min_width": null,
            "object_fit": null,
            "object_position": null,
            "order": null,
            "overflow": null,
            "overflow_x": null,
            "overflow_y": null,
            "padding": null,
            "right": null,
            "top": null,
            "visibility": null,
            "width": null
          }
        }
      }
    }
  },
  "nbformat": 4,
  "nbformat_minor": 0
}
